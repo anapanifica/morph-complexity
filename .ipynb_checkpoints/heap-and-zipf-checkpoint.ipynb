{
 "cells": [
  {
   "cell_type": "markdown",
   "metadata": {},
   "source": [
    "The following code is based on [this](https://github.com/ayushgarg31/NLP-Assignment-1) notebook."
   ]
  },
  {
   "cell_type": "code",
   "execution_count": 1,
   "metadata": {
    "scrolled": false
   },
   "outputs": [],
   "source": [
    "from nltk.tokenize import word_tokenize\n",
    "import re\n",
    "import matplotlib.pyplot as plt\n",
    "from sklearn import linear_model\n",
    "import math"
   ]
  },
  {
   "cell_type": "markdown",
   "metadata": {},
   "source": [
    "# Tom Sawyer\n",
    "## Tokenization"
   ]
  },
  {
   "cell_type": "code",
   "execution_count": 2,
   "metadata": {
    "scrolled": false
   },
   "outputs": [
    {
     "name": "stdout",
     "output_type": "stream",
     "text": [
      "The total number of tokens are :  76664\n",
      "Different types of tokens are :  8066\n",
      "The TTR (Type by Tokens Ratio) is : 0.10521235521235521\n"
     ]
    }
   ],
   "source": [
    "#open file and convert it to lower case\n",
    "tom_sawyer_file = open(\"tom.txt\", \"r\", encoding=\"utf8\")\n",
    "tom_sawyer = tom_sawyer_file.read()\n",
    "tom_sawyer_lower = tom_sawyer.lower()\n",
    "\n",
    "#remove all special characters except - and _\n",
    "special_chars = re.compile('[`~!@#$%^&*()+={}|\\[\\]:\";<>?,\\./“”]')\n",
    "tom_sawyer_lower = special_chars.sub(\"\", tom_sawyer_lower)\n",
    "\n",
    "#tokenize using word_tokenizer\n",
    "#token_list is a list of tokens\n",
    "tokens_list = word_tokenize(tom_sawyer_lower)\n",
    "tokens_list = [i for i in tokens_list if len(re.findall('[a-z0-9]', i))!=0]\n",
    "tokens = len(tokens_list)\n",
    "\n",
    "tom_sawyer_file.close()\n",
    "\n",
    "#count the number of times each token appears and save it in dictionary\n",
    "#token_count is a dictionary with tokens as keys and their frequency as value\n",
    "m = 500\n",
    "token_count = {}\n",
    "counter = 0\n",
    "unique_words = []\n",
    "for i in tokens_list:\n",
    "    if (i in token_count.keys()):\n",
    "        token_count[i] += 1\n",
    "    else:\n",
    "        token_count[i] = 1\n",
    "    \n",
    "    #count types after every m tokens for Heap's law\n",
    "    if (counter%m == 0):\n",
    "        unique_words.append(len(token_count.keys()))\n",
    "    counter += 1\n",
    "        \n",
    "unique_words = unique_words[1:]\n",
    "types = len(token_count.keys())\n",
    "ttr = types/tokens\n",
    "\n",
    "print (\"The total number of tokens are : \", tokens)\n",
    "print (\"Different types of tokens are : \", types)\n",
    "print (\"The TTR (Type by Tokens Ratio) is :\", ttr)"
   ]
  },
  {
   "cell_type": "markdown",
   "metadata": {},
   "source": [
    "## Frequency list"
   ]
  },
  {
   "cell_type": "code",
   "execution_count": 3,
   "metadata": {},
   "outputs": [
    {
     "name": "stdout",
     "output_type": "stream",
     "text": [
      "Top 20 tokens and their frequency : \n",
      " [['the', 3970], ['and', 3174], ['a', 1919], ['to', 1801], ['of', 1584], ['it', 1324], ['he', 1249], ['was', 1179], ['that', 1034], ['in', 1012], ['i', 1006], ['you', 934], ['his', 820], ['tom', 817], [\"'s\", 802], ['with', 694], ['they', 616], [\"n't\", 598], ['but', 587], ['for', 559]]\n"
     ]
    }
   ],
   "source": [
    "#convert dict to list and sort using frequency\n",
    "#token_ranks is a 2d-matrix with each row contaning 1 - token and 2 - it's count\n",
    "token_ranks = []\n",
    "for i in token_count:\n",
    "    token_ranks.append([i, token_count[i]])\n",
    "    \n",
    "token_ranks.sort(key = lambda x:x[1], reverse = True)\n",
    "\n",
    "\n",
    "with open('tom_freq.txt', 'w') as file:\n",
    "    file.writelines(\"%s\\n\" % place for place in token_ranks)\n",
    "\n",
    "print (\"Top 20 tokens and their frequency : \\n\",token_ranks[:20])"
   ]
  },
  {
   "cell_type": "markdown",
   "metadata": {},
   "source": [
    "# Avar text 1\n",
    "([source](http://dagistan.ru/knigi/klasika/sulimsn.htm))\n",
    "## Tokenization"
   ]
  },
  {
   "cell_type": "code",
   "execution_count": 4,
   "metadata": {},
   "outputs": [
    {
     "name": "stdout",
     "output_type": "stream",
     "text": [
      "The total number of tokens are :  36155\n",
      "Different types of tokens are :  11606\n",
      "The TTR (Type by Tokens Ratio) is : 0.3210067763794773\n"
     ]
    }
   ],
   "source": [
    "#open file and convert it to lower case\n",
    "tom_swayer_file = open(\"avar1.txt\", \"r\", encoding=\"utf8\")\n",
    "tom_swayer = tom_swayer_file.read()\n",
    "tom_swayer_lower = tom_swayer.lower()\n",
    "\n",
    "#remove all special characters except - and _\n",
    "special_chars = re.compile('[`~!@#$%^&*()+={}|\\[\\]:\";<>?,\\./“”]')\n",
    "tom_swayer_lower = special_chars.sub(\"\", tom_swayer_lower)\n",
    "\n",
    "#tokenize using word_tokenizer\n",
    "#token_list is a list of tokens\n",
    "tokens_list = word_tokenize(tom_swayer_lower)\n",
    "tokens_list = [i for i in tokens_list if len(re.findall('[а-яa-z0-9]', i))!=0]\n",
    "tokens = len(tokens_list)\n",
    "\n",
    "tom_swayer_file.close()\n",
    "\n",
    "#count the number of times each token appears and save it in dictionary\n",
    "#token_count is a dictionary with tokens as keys and their frequency as value\n",
    "m = 500\n",
    "token_count = {}\n",
    "counter = 0\n",
    "unique_words2 = []\n",
    "for i in tokens_list:\n",
    "    if (i in token_count.keys()):\n",
    "        token_count[i] += 1\n",
    "    else:\n",
    "        token_count[i] = 1\n",
    "    \n",
    "    #count types after every m tokens for Heap's law\n",
    "    if (counter%m == 0):\n",
    "        unique_words2.append(len(token_count.keys()))\n",
    "    counter += 1\n",
    "        \n",
    "unique_words2 = unique_words2[1:]\n",
    "types2 = len(token_count.keys())\n",
    "ttr = types2/tokens\n",
    "\n",
    "print (\"The total number of tokens are : \", tokens)\n",
    "print (\"Different types of tokens are : \", types2)\n",
    "print (\"The TTR (Type by Tokens Ratio) is :\", ttr)"
   ]
  },
  {
   "cell_type": "markdown",
   "metadata": {},
   "source": [
    "## Frequency list"
   ]
  },
  {
   "cell_type": "code",
   "execution_count": 5,
   "metadata": {},
   "outputs": [
    {
     "name": "stdout",
     "output_type": "stream",
     "text": [
      "Top 20 tokens and their frequency : \n",
      " [['буго', 376], ['махiмуд', 304], ['махiмудил', 273], ['ва', 250], ['гьеб', 240], ['цо', 183], ['гьесул', 181], ['букiана', 168], ['гьев', 151], ['амма', 146], ['гьес', 140], ['руго', 139], ['рокьул', 139], ['чи', 135], ['махiмудица', 134], ['дир', 125], ['кечi', 121], ['гiадин', 110], ['вуго', 109], ['мун', 109]]\n"
     ]
    }
   ],
   "source": [
    "#convert dict to list and sort using frequency\n",
    "#token_ranks is a 2d-matrix with each row contaning 1 - token and 2 - it's count\n",
    "token_ranks2 = []\n",
    "for i in token_count:\n",
    "    token_ranks2.append([i, token_count[i]])\n",
    "    \n",
    "token_ranks2.sort(key = lambda x:x[1], reverse = True)\n",
    "\n",
    "\n",
    "with open('avar1_freq.txt', 'w') as file:\n",
    "    file.writelines(\"%s\\n\" % place for place in token_ranks2)\n",
    "\n",
    "print (\"Top 20 tokens and their frequency : \\n\",token_ranks2[:20])"
   ]
  },
  {
   "cell_type": "markdown",
   "metadata": {},
   "source": [
    "# Avar text 2\n",
    "\n",
    "([source](http://maarulal.ru/library/545-ciadasa-xiamzat-piesabi-maxiachxala-2010.html), names of charachters and other words with spaces between letters were removed)\n",
    "\n",
    "## Tokenization"
   ]
  },
  {
   "cell_type": "code",
   "execution_count": 6,
   "metadata": {},
   "outputs": [
    {
     "name": "stdout",
     "output_type": "stream",
     "text": [
      "The total number of tokens are :  49141\n",
      "Different types of tokens are :  12984\n",
      "The TTR (Type by Tokens Ratio) is : 0.2642192873567896\n"
     ]
    }
   ],
   "source": [
    "#open file and convert it to lower case\n",
    "tom_swayer_file = open(\"avar2.txt\", \"r\", encoding=\"utf8\")\n",
    "tom_swayer = tom_swayer_file.read()\n",
    "tom_swayer_lower = tom_swayer.lower()\n",
    "\n",
    "#remove all special characters except - and _\n",
    "special_chars = re.compile('[`~!@#$%^&*()+={}|\\[\\]:\";<>?,\\./“”]')\n",
    "tom_swayer_lower = special_chars.sub(\"\", tom_swayer_lower)\n",
    "\n",
    "#tokenize using word_tokenizer\n",
    "#token_list is a list of tokens\n",
    "tokens_list = word_tokenize(tom_swayer_lower)\n",
    "tokens_list = [i for i in tokens_list if len(re.findall('[а-яa-z0-9]', i))!=0]\n",
    "tokens = len(tokens_list)\n",
    "\n",
    "tom_swayer_file.close()\n",
    "\n",
    "#count the number of times each token appears and save it in dictionary\n",
    "#token_count is a dictionary with tokens as keys and their frequency as value\n",
    "m = 500\n",
    "token_count = {}\n",
    "counter = 0\n",
    "unique_words3 = []\n",
    "for i in tokens_list:\n",
    "    if (i in token_count.keys()):\n",
    "        token_count[i] += 1\n",
    "    else:\n",
    "        token_count[i] = 1\n",
    "    \n",
    "    #count types after every m tokens for Heap's law\n",
    "    if (counter%m == 0):\n",
    "        unique_words3.append(len(token_count.keys()))\n",
    "    counter += 1\n",
    "        \n",
    "unique_words3 = unique_words3[1:]\n",
    "types3 = len(token_count.keys())\n",
    "ttr = types3/tokens\n",
    "\n",
    "print (\"The total number of tokens are : \", tokens)\n",
    "print (\"Different types of tokens are : \", types3)\n",
    "print (\"The TTR (Type by Tokens Ratio) is :\", ttr)"
   ]
  },
  {
   "cell_type": "markdown",
   "metadata": {},
   "source": [
    "## Frequency list"
   ]
  },
  {
   "cell_type": "code",
   "execution_count": 7,
   "metadata": {},
   "outputs": [
    {
     "name": "stdout",
     "output_type": "stream",
     "text": [
      "Top 20 tokens and their frequency : \n",
      " [['буго', 553], ['цо', 431], ['дир', 371], ['щиб', 366], ['жо', 357], ['гьеб', 332], ['мун', 331], ['гьаб', 284], ['гьанже', 283], ['дун', 260], ['чи', 238], ['дуца', 231], ['дида', 219], ['а', 216], ['дур', 207], ['ва', 206], ['бугеб', 204], ['дица', 185], ['дуда', 183], ['гьечiо', 179]]\n"
     ]
    }
   ],
   "source": [
    "#convert dict to list and sort using frequency\n",
    "#token_ranks is a 2d-matrix with each row contaning 1 - token and 2 - it's count\n",
    "token_ranks3 = []\n",
    "for i in token_count:\n",
    "    token_ranks3.append([i, token_count[i]])\n",
    "    \n",
    "token_ranks3.sort(key = lambda x:x[1], reverse = True)\n",
    "\n",
    "\n",
    "with open('avar2_freq.txt', 'w') as file:\n",
    "    file.writelines(\"%s\\n\" % place for place in token_ranks3)\n",
    "\n",
    "print (\"Top 20 tokens and their frequency : \\n\",token_ranks3[:20])"
   ]
  },
  {
   "cell_type": "markdown",
   "metadata": {},
   "source": [
    "# Heap's Law"
   ]
  },
  {
   "cell_type": "code",
   "execution_count": 8,
   "metadata": {},
   "outputs": [
    {
     "data": {
      "image/png": "[encoded data removed]",
      "text/plain": [
       "<Figure size 432x288 with 1 Axes>"
      ]
     },
     "metadata": {
      "needs_background": "light"
     },
     "output_type": "display_data"
    }
   ],
   "source": [
    "plt.scatter([(i+1)*m for i in range(len(unique_words))], [i for i in unique_words], s=2)\n",
    "plt.scatter([(i+1)*m for i in range(len(unique_words2))], [i for i in unique_words2], s=2)\n",
    "plt.scatter([(i+1)*m for i in range(len(unique_words3))], [i for i in unique_words3], s=2)\n",
    "plt.ylabel('Different types of tokens (|V|)')\n",
    "plt.xlabel('Total no. of tokens (N)')\n",
    "plt.show()"
   ]
  },
  {
   "cell_type": "markdown",
   "metadata": {},
   "source": [
    "# Zipf's Law"
   ]
  },
  {
   "cell_type": "code",
   "execution_count": 9,
   "metadata": {},
   "outputs": [
    {
     "data": {
      "image/png": "[encoded data removed]",
      "text/plain": [
       "<Figure size 432x288 with 1 Axes>"
      ]
     },
     "metadata": {
      "needs_background": "light"
     },
     "output_type": "display_data"
    }
   ],
   "source": [
    "plt.scatter([i for i in range(1,types+1)], [token_ranks[i][1] for i in range(types)])\n",
    "plt.scatter([i for i in range(1,types2+1)], [token_ranks2[i][1] for i in range(types2)])\n",
    "plt.scatter([i for i in range(1,types3+1)], [token_ranks3[i][1] for i in range(types3)])\n",
    "plt.ylabel('Frequency (f)')\n",
    "plt.xlabel('rank (r)')\n",
    "plt.show()"
   ]
  }
 ],
 "metadata": {
  "kernelspec": {
   "display_name": "Python 3",
   "language": "python",
   "name": "python3"
  },
  "language_info": {
   "codemirror_mode": {
    "name": "ipython",
    "version": 3
   },
   "file_extension": ".py",
   "mimetype": "text/x-python",
   "name": "python",
   "nbconvert_exporter": "python",
   "pygments_lexer": "ipython3",
   "version": "3.7.4"
  }
 },
 "nbformat": 4,
 "nbformat_minor": 2
}
